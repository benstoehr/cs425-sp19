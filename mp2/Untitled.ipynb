{
 "cells": [
  {
   "cell_type": "code",
   "execution_count": 1,
   "metadata": {},
   "outputs": [],
   "source": [
    "import pandas as pd\n",
    "import numpy as np\n",
    "import datetime as dt\n",
    "import matplotlib.pyplot as plt\n",
    "import re\n",
    "import json"
   ]
  },
  {
   "cell_type": "code",
   "execution_count": 6,
   "metadata": {},
   "outputs": [],
   "source": [
    "benslog = \"log.txt\""
   ]
  },
  {
   "cell_type": "code",
   "execution_count": 7,
   "metadata": {},
   "outputs": [],
   "source": [
    "def read_data(filename):\n",
    "    raw = []\n",
    "    ttype_list = ['TRANSACTION', 'BLOCK', 'SOLVED']\n",
    "    with open(filename, 'r') as f:\n",
    "        for line in f:\n",
    "            record = line.split(' ') # separating sign to be checked\n",
    "            if len(record) > 2:\n",
    "                if record[4] in ttype_list:\n",
    "                    raw.append(record)\n",
    "\n",
    "\t# fileString = '{0:.6f}'.format(timestamp_a) + \" \" + str(self.name) + \" \" + str(status) + \n",
    "    # \" \" + str(bytes) + \" \" + str(ttype) + \" \" + str(tID) + \" \" + str(fromNode) + \" \" + \n",
    "    # str(toNode) + \" \" + str(sentTime) + \"\\n\"\n",
    "\t# name: vm[#]node[i]\n",
    "\t# ttype: TRANSACTION/BLOCK/...etc\n",
    "\t# tID: Tx: txID/Block: selfHash/Puzzle: hash/Verify: hash_solution\n",
    "    labels = ['timestamp', 'name', 'status', 'bytes', 'ttype', 'tID', 'fromNode', 'toNode', 'sentTime']\n",
    "    df = pd.DataFrame.from_records(raw, columns=labels)\n",
    "    return df\n",
    "\n",
    "def read_blockTx(filename):\n",
    "    raw = []\n",
    "    with open(filename, 'r') as f:\n",
    "        for line in f:\n",
    "            record = line.split(' ') # separating sign to be checked\n",
    "            if len(record) >= 2:\n",
    "                raw.append(record)\n",
    "\n",
    "    labels = ['blockHash', 'txID']\n",
    "    df = pd.DataFrame.from_records(raw, columns=labels)\n",
    "    return df\n",
    "\n",
    "# def draw_hist(d, output_filename):\n",
    "# \t\"\"\"\n",
    "# \td: array\n",
    "# \toutput_filename: filename without path\n",
    "# \t\"\"\"\n",
    "# \toutput_path = \"img/\"\n",
    "# \toutput = output_path + output_filename\n",
    "\n",
    "# \tsns.set(style=\"whitegrid\")\n",
    "# \tsns_plot = sns.distplot(d, kde=False, color=\"b\")\n",
    "# \tfig = sns_plot.get_figure()\n",
    "# \tfig.savefig(output)\n",
    "# \tplt.clf()\n",
    "\n",
    "# def draw_line(df, x, y, color, output_filename):\n",
    "# \t\"\"\"\n",
    "# \tdf: dataframe\n",
    "# \ty: the column for y axis\n",
    "# \tcolor: the grouping column\n",
    "# \toutput_filename: filename without path\n",
    "# \t\"\"\"\n",
    "# \toutput_path = \"img/\"\n",
    "# \toutput = output_path + output_filename\n",
    "\n",
    "# \tsns_plot = \"\"\n",
    "# \tsns.set(style=\"whitegrid\")\n",
    "# \tsns.despine(left=True)\n",
    "# \t# sns.set_palette(sns.color_palette(\"Blues\"))\n",
    "# \tif color != None:\n",
    "# \t\tsns_plot = sns.lineplot(x=x, y=y, hue=color, data=df, legend=False)\n",
    "# \telse:\n",
    "# \t\tsns_plot = sns.lineplot(x=x, y=y, data=df, legend=False)\n",
    "# \tfig = sns_plot.get_figure()\n",
    "# \tfig.savefig(output)\n",
    "# \tplt.clf()"
   ]
  },
  {
   "cell_type": "code",
   "execution_count": 13,
   "metadata": {},
   "outputs": [],
   "source": [
    "raw_df20 = read_data(benslog)\n",
    "raw_df20['nodeNum'] = 20\n",
    "raw_df20['bytes'] = raw_df20['bytes'].astype(int)\n",
    "raw_df20['timestamp'] = pd.to_datetime(raw_df20['timestamp'], unit='s')\n",
    "raw_df20['sentTime'] = pd.to_datetime(raw_df20['sentTime'], unit='s')\n",
    "\n",
    "raw_df = raw_df20.reset_index()"
   ]
  },
  {
   "cell_type": "code",
   "execution_count": 15,
   "metadata": {},
   "outputs": [
    {
     "ename": "ValueError",
     "evalue": "The truth value of a Series is ambiguous. Use a.empty, a.bool(), a.item(), a.any() or a.all().",
     "output_type": "error",
     "traceback": [
      "\u001b[0;31m---------------------------------------------------------------------------\u001b[0m",
      "\u001b[0;31mValueError\u001b[0m                                Traceback (most recent call last)",
      "\u001b[0;32m<ipython-input-15-505603f558f6>\u001b[0m in \u001b[0;36m<module>\u001b[0;34m\u001b[0m\n\u001b[1;32m      1\u001b[0m \u001b[0;31m# blocks take how long to propagate to all nodes\u001b[0m\u001b[0;34m\u001b[0m\u001b[0;34m\u001b[0m\u001b[0;34m\u001b[0m\u001b[0m\n\u001b[0;32m----> 2\u001b[0;31m \u001b[0mblock20_df\u001b[0m \u001b[0;34m=\u001b[0m \u001b[0mraw_df\u001b[0m\u001b[0;34m[\u001b[0m\u001b[0mraw_df\u001b[0m\u001b[0;34m.\u001b[0m\u001b[0mstatus\u001b[0m \u001b[0;34m==\u001b[0m \u001b[0;34m'IncomingBlock'\u001b[0m \u001b[0;32mand\u001b[0m \u001b[0mraw_df\u001b[0m\u001b[0;34m.\u001b[0m\u001b[0mnodeNum\u001b[0m \u001b[0;34m==\u001b[0m \u001b[0;36m20\u001b[0m\u001b[0;34m]\u001b[0m\u001b[0;34m.\u001b[0m\u001b[0msort_values\u001b[0m\u001b[0;34m(\u001b[0m\u001b[0mby\u001b[0m\u001b[0;34m=\u001b[0m\u001b[0;34m[\u001b[0m\u001b[0;34m'timestamp'\u001b[0m\u001b[0;34m]\u001b[0m\u001b[0;34m)\u001b[0m\u001b[0;34m.\u001b[0m\u001b[0mdrop_duplicates\u001b[0m\u001b[0;34m(\u001b[0m\u001b[0msubset\u001b[0m\u001b[0;34m=\u001b[0m\u001b[0;34m[\u001b[0m\u001b[0;34m'tID'\u001b[0m\u001b[0;34m,\u001b[0m \u001b[0;34m'toNode'\u001b[0m\u001b[0;34m]\u001b[0m\u001b[0;34m,\u001b[0m \u001b[0mkeep\u001b[0m\u001b[0;34m=\u001b[0m\u001b[0;34m\"first\"\u001b[0m\u001b[0;34m)\u001b[0m\u001b[0;34m\u001b[0m\u001b[0;34m\u001b[0m\u001b[0m\n\u001b[0m\u001b[1;32m      3\u001b[0m \u001b[0;34m\u001b[0m\u001b[0m\n\u001b[1;32m      4\u001b[0m \u001b[0;31m# calculate the time elaspsed from solved to all nodes\u001b[0m\u001b[0;34m\u001b[0m\u001b[0;34m\u001b[0m\u001b[0;34m\u001b[0m\u001b[0m\n\u001b[1;32m      5\u001b[0m \u001b[0mblock20_solved_df\u001b[0m \u001b[0;34m=\u001b[0m \u001b[0mraw_df\u001b[0m\u001b[0;34m[\u001b[0m\u001b[0mraw_df\u001b[0m\u001b[0;34m.\u001b[0m\u001b[0mttype\u001b[0m \u001b[0;34m==\u001b[0m \u001b[0;34m'SOLVED'\u001b[0m \u001b[0;32mand\u001b[0m \u001b[0mraw_df\u001b[0m\u001b[0;34m.\u001b[0m\u001b[0mnodeNum\u001b[0m \u001b[0;34m==\u001b[0m \u001b[0;36m20\u001b[0m\u001b[0;34m]\u001b[0m\u001b[0;34m.\u001b[0m\u001b[0mgroupby\u001b[0m\u001b[0;34m(\u001b[0m\u001b[0;34m[\u001b[0m\u001b[0;34m'tID'\u001b[0m\u001b[0;34m]\u001b[0m\u001b[0;34m)\u001b[0m\u001b[0;34m[\u001b[0m\u001b[0;34m'timestamp'\u001b[0m\u001b[0;34m]\u001b[0m\u001b[0;34m.\u001b[0m\u001b[0mmin\u001b[0m\u001b[0;34m(\u001b[0m\u001b[0;34m)\u001b[0m\u001b[0;34m.\u001b[0m\u001b[0mreset_index\u001b[0m\u001b[0;34m(\u001b[0m\u001b[0;34m)\u001b[0m\u001b[0;34m\u001b[0m\u001b[0;34m\u001b[0m\u001b[0m\n",
      "\u001b[0;32m/usr/local/lib/python3.7/site-packages/pandas/core/generic.py\u001b[0m in \u001b[0;36m__nonzero__\u001b[0;34m(self)\u001b[0m\n\u001b[1;32m   1476\u001b[0m         raise ValueError(\"The truth value of a {0} is ambiguous. \"\n\u001b[1;32m   1477\u001b[0m                          \u001b[0;34m\"Use a.empty, a.bool(), a.item(), a.any() or a.all().\"\u001b[0m\u001b[0;34m\u001b[0m\u001b[0;34m\u001b[0m\u001b[0m\n\u001b[0;32m-> 1478\u001b[0;31m                          .format(self.__class__.__name__))\n\u001b[0m\u001b[1;32m   1479\u001b[0m \u001b[0;34m\u001b[0m\u001b[0m\n\u001b[1;32m   1480\u001b[0m     \u001b[0m__bool__\u001b[0m \u001b[0;34m=\u001b[0m \u001b[0m__nonzero__\u001b[0m\u001b[0;34m\u001b[0m\u001b[0;34m\u001b[0m\u001b[0m\n",
      "\u001b[0;31mValueError\u001b[0m: The truth value of a Series is ambiguous. Use a.empty, a.bool(), a.item(), a.any() or a.all()."
     ]
    }
   ],
   "source": [
    "# blocks take how long to propagate to all nodes\n",
    "block20_df = raw_df[raw_df.status == 'IncomingBlock' and raw_df.nodeNum == 20].sort_values(by=['timestamp']).drop_duplicates(subset=['tID', 'toNode'], keep=\"first\")\n",
    "\n",
    "# calculate the time elaspsed from solved to all nodes\n",
    "block20_solved_df = raw_df[raw_df.ttype == 'SOLVED' and raw_df.nodeNum == 20].groupby(['tID'])['timestamp'].min().reset_index()\n",
    "\n",
    "block20_solved = pd.Series(block20_solved_df.sentTime.values,index=block20_solved_df.tID).to_dict()\n",
    "\n",
    "block20_df['sentTime'] = tx20_df.tID.apply(lambda x: block20_solved[x])\n",
    "\n",
    "##### record the solved time\n",
    "block20_df['timeElapsed'] = (block20_df.timestamp - block20_df.sentTime)\n",
    "\n",
    "block20_df['timeElapsed'] = block20_df['timeElapsed'].dt.microseconds.abs()\n",
    "\n",
    "# total elapsed time for each transaction forwarding\n",
    "# histogram: x = timeElapsed\n",
    "ttlTimeBlock20 = block20_df.groupby(['tID'])['timeElapsed'].max().reset_index()\n",
    "ttlTimeBlock100 = block100_df.groupby(['tID'])['timeElapsed'].max().reset_index()\n",
    "draw_hist(ttlTimeBlock20['timeElapsed'].values, 'plot09_hist_block_propagation_delay_all_20.png')\n",
    "draw_hist(ttlTimeBlock100['timeElapsed'].values, 'plot10_hist_block_propagation_delay_all_100.png')\n",
    "\n",
    "# Plot 11 & 12\n",
    "# Splits, how often, the longest split (height)\n",
    "# scatter: x=time, y=split height\n"
   ]
  },
  {
   "cell_type": "code",
   "execution_count": null,
   "metadata": {},
   "outputs": [],
   "source": []
  }
 ],
 "metadata": {
  "kernelspec": {
   "display_name": "Python 3",
   "language": "python",
   "name": "python3"
  },
  "language_info": {
   "codemirror_mode": {
    "name": "ipython",
    "version": 3
   },
   "file_extension": ".py",
   "mimetype": "text/x-python",
   "name": "python",
   "nbconvert_exporter": "python",
   "pygments_lexer": "ipython3",
   "version": "3.7.3"
  }
 },
 "nbformat": 4,
 "nbformat_minor": 2
}
